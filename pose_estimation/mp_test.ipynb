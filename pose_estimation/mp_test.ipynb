{
 "cells": [
  {
   "cell_type": "markdown",
   "metadata": {},
   "source": [
    "# Media Pipe explained"
   ]
  },
  {
   "cell_type": "code",
   "execution_count": 73,
   "metadata": {
    "collapsed": true
   },
   "outputs": [],
   "source": [
    "import os\n",
    "import numpy as np\n",
    "import matplotlib.pyplot as plt\n",
    "\n",
    "import cv2\n",
    "import mediapipe as mp\n"
   ]
  },
  {
   "cell_type": "code",
   "execution_count": 74,
   "metadata": {
    "pycharm": {
     "name": "#%%\n"
    }
   },
   "outputs": [],
   "source": [
    "def print_elements(x, in_row = 5):\n",
    "    names = [e.name for e in x]\n",
    "    names_length = len(names)\n",
    "    for i in range(names_length // in_row):\n",
    "        print(names[(i * in_row):min((i + 1) * in_row, names_length)])\n",
    "\n",
    "def print_connections(connections, points, in_row = 3):\n",
    "    points = {e.value:e.name for e in points}\n",
    "    connections_as_string = [(points.get(i), points.get(j)) for (i, j) in connections]\n",
    "    connections_length = len(connections_as_string)\n",
    "    for i in range(connections_length // in_row):\n",
    "        print(connections_as_string[(i * in_row):min((i + 1) * in_row, connections_length)])"
   ]
  },
  {
   "cell_type": "markdown",
   "metadata": {},
   "source": [
    "Models preparation:"
   ]
  },
  {
   "cell_type": "code",
   "execution_count": 75,
   "metadata": {
    "pycharm": {
     "name": "#%%\n"
    }
   },
   "outputs": [],
   "source": [
    "mp_hands = mp.solutions.hands\n",
    "mp_face = mp.solutions.face_detection\n",
    "mp_pose = mp.solutions.pose\n",
    "mp_facemesh = mp.solutions.face_mesh\n",
    "mp_holistic = mp.solutions.holistic"
   ]
  },
  {
   "cell_type": "markdown",
   "metadata": {
    "pycharm": {
     "name": "#%% md\n"
    }
   },
   "source": [
    "## Hand and Pose\n",
    "Point names to be detected"
   ]
  },
  {
   "cell_type": "code",
   "execution_count": 76,
   "metadata": {
    "pycharm": {
     "name": "#%%\n"
    }
   },
   "outputs": [
    {
     "name": "stdout",
     "output_type": "stream",
     "text": [
      "Hands parts\n",
      "<class 'enum.EnumMeta'>\n",
      "['WRIST', 'THUMB_CMC', 'THUMB_MCP', 'THUMB_IP', 'THUMB_TIP']\n",
      "['INDEX_FINGER_MCP', 'INDEX_FINGER_PIP', 'INDEX_FINGER_DIP', 'INDEX_FINGER_TIP', 'MIDDLE_FINGER_MCP']\n",
      "['MIDDLE_FINGER_PIP', 'MIDDLE_FINGER_DIP', 'MIDDLE_FINGER_TIP', 'RING_FINGER_MCP', 'RING_FINGER_PIP']\n",
      "['RING_FINGER_DIP', 'RING_FINGER_TIP', 'PINKY_MCP', 'PINKY_PIP', 'PINKY_DIP']\n",
      "\n",
      "Face parts\n",
      "<class 'enum.EnumMeta'>\n",
      "['RIGHT_EYE', 'LEFT_EYE', 'NOSE_TIP', 'MOUTH_CENTER', 'RIGHT_EAR_TRAGION']\n",
      "\n",
      "Pose parts\n",
      "<class 'enum.EnumMeta'>\n",
      "['NOSE', 'LEFT_EYE_INNER', 'LEFT_EYE', 'LEFT_EYE_OUTER', 'RIGHT_EYE_INNER']\n",
      "['RIGHT_EYE', 'RIGHT_EYE_OUTER', 'LEFT_EAR', 'RIGHT_EAR', 'MOUTH_LEFT']\n",
      "['MOUTH_RIGHT', 'LEFT_SHOULDER', 'RIGHT_SHOULDER', 'LEFT_ELBOW', 'RIGHT_ELBOW']\n",
      "['LEFT_WRIST', 'RIGHT_WRIST', 'LEFT_PINKY', 'RIGHT_PINKY', 'LEFT_INDEX']\n",
      "['RIGHT_INDEX', 'LEFT_THUMB', 'RIGHT_THUMB', 'LEFT_HIP', 'RIGHT_HIP']\n",
      "['LEFT_KNEE', 'RIGHT_KNEE', 'LEFT_ANKLE', 'RIGHT_ANKLE', 'LEFT_HEEL']\n"
     ]
    }
   ],
   "source": [
    "print('Hands parts')\n",
    "print(type(mp_hands.HandLandmark))\n",
    "print_elements(mp_hands.HandLandmark)\n",
    "\n",
    "print('\\nFace parts')\n",
    "print(type(mp_face.FaceKeyPoint))\n",
    "print_elements(mp_face.FaceKeyPoint)\n",
    "\n",
    "print('\\nPose parts')\n",
    "print(type(mp_pose.PoseLandmark))\n",
    "print_elements(mp_pose.PoseLandmark)\n",
    "\n"
   ]
  },
  {
   "cell_type": "markdown",
   "source": [
    "Connections"
   ],
   "metadata": {
    "collapsed": false
   }
  },
  {
   "cell_type": "code",
   "execution_count": 77,
   "outputs": [
    {
     "name": "stdout",
     "output_type": "stream",
     "text": [
      "Hand connections\n",
      "[('THUMB_IP', 'THUMB_TIP'), ('WRIST', 'INDEX_FINGER_MCP'), ('PINKY_MCP', 'PINKY_PIP')]\n",
      "[('WRIST', 'PINKY_MCP'), ('RING_FINGER_MCP', 'RING_FINGER_PIP'), ('RING_FINGER_MCP', 'PINKY_MCP')]\n",
      "[('PINKY_PIP', 'PINKY_DIP'), ('INDEX_FINGER_MCP', 'INDEX_FINGER_PIP'), ('INDEX_FINGER_MCP', 'MIDDLE_FINGER_MCP')]\n",
      "[('RING_FINGER_PIP', 'RING_FINGER_DIP'), ('WRIST', 'THUMB_CMC'), ('MIDDLE_FINGER_MCP', 'MIDDLE_FINGER_PIP')]\n",
      "[('THUMB_CMC', 'THUMB_MCP'), ('MIDDLE_FINGER_MCP', 'RING_FINGER_MCP'), ('MIDDLE_FINGER_PIP', 'MIDDLE_FINGER_DIP')]\n",
      "[('PINKY_DIP', 'PINKY_TIP'), ('INDEX_FINGER_PIP', 'INDEX_FINGER_DIP'), ('RING_FINGER_DIP', 'RING_FINGER_TIP')]\n",
      "[('THUMB_MCP', 'THUMB_IP'), ('MIDDLE_FINGER_DIP', 'MIDDLE_FINGER_TIP'), ('INDEX_FINGER_DIP', 'INDEX_FINGER_TIP')]\n",
      "Pose connections\n",
      "[('LEFT_WRIST', 'LEFT_THUMB'), ('RIGHT_WRIST', 'RIGHT_INDEX'), ('RIGHT_PINKY', 'RIGHT_INDEX')]\n",
      "[('LEFT_EYE_OUTER', 'LEFT_EAR'), ('RIGHT_ELBOW', 'RIGHT_WRIST'), ('LEFT_HIP', 'LEFT_KNEE')]\n",
      "[('RIGHT_ANKLE', 'RIGHT_HEEL'), ('LEFT_SHOULDER', 'LEFT_HIP'), ('LEFT_ANKLE', 'LEFT_FOOT_INDEX')]\n",
      "[('RIGHT_EYE_OUTER', 'RIGHT_EAR'), ('LEFT_WRIST', 'LEFT_PINKY'), ('RIGHT_HIP', 'RIGHT_KNEE')]\n",
      "[('RIGHT_WRIST', 'RIGHT_THUMB'), ('RIGHT_EYE_INNER', 'RIGHT_EYE'), ('RIGHT_EYE', 'RIGHT_EYE_OUTER')]\n",
      "[('LEFT_HEEL', 'LEFT_FOOT_INDEX'), ('RIGHT_SHOULDER', 'RIGHT_HIP'), ('LEFT_HIP', 'RIGHT_HIP')]\n",
      "[('NOSE', 'LEFT_EYE_INNER'), ('MOUTH_LEFT', 'MOUTH_RIGHT'), ('LEFT_EYE_INNER', 'LEFT_EYE')]\n",
      "[('NOSE', 'RIGHT_EYE_INNER'), ('LEFT_SHOULDER', 'LEFT_ELBOW'), ('RIGHT_HEEL', 'RIGHT_FOOT_INDEX')]\n",
      "[('RIGHT_ANKLE', 'RIGHT_FOOT_INDEX'), ('LEFT_WRIST', 'LEFT_INDEX'), ('RIGHT_WRIST', 'RIGHT_PINKY')]\n",
      "[('LEFT_KNEE', 'LEFT_ANKLE'), ('RIGHT_KNEE', 'RIGHT_ANKLE'), ('RIGHT_SHOULDER', 'RIGHT_ELBOW')]\n",
      "[('LEFT_PINKY', 'LEFT_INDEX'), ('LEFT_EYE', 'LEFT_EYE_OUTER'), ('LEFT_SHOULDER', 'RIGHT_SHOULDER')]\n"
     ]
    }
   ],
   "source": [
    "print(\"Hand connections\")\n",
    "print_connections(mp_hands.HAND_CONNECTIONS, mp_hands.HandLandmark)\n",
    "\n",
    "print(\"Pose connections\")\n",
    "print_connections(mp_pose.POSE_CONNECTIONS, mp_pose.PoseLandmark)"
   ],
   "metadata": {
    "collapsed": false,
    "pycharm": {
     "name": "#%%\n"
    }
   }
  },
  {
   "cell_type": "markdown",
   "source": [
    "## Face Contours\n",
    "Number of face landmarks"
   ],
   "metadata": {
    "collapsed": false
   }
  },
  {
   "cell_type": "code",
   "execution_count": 78,
   "outputs": [
    {
     "name": "stdout",
     "output_type": "stream",
     "text": [
      "FACEMESH_NUM_LANDMARKS\n",
      "\t468\n",
      "FACEMESH_NUM_LANDMARKS_WITH_IRISES\n",
      "\t478\n"
     ]
    }
   ],
   "source": [
    "print('FACEMESH_NUM_LANDMARKS\\n\\t' + str(mp_facemesh.FACEMESH_NUM_LANDMARKS))\n",
    "print('FACEMESH_NUM_LANDMARKS_WITH_IRISES\\n\\t' + str(mp_facemesh.FACEMESH_NUM_LANDMARKS_WITH_IRISES))"
   ],
   "metadata": {
    "collapsed": false,
    "pycharm": {
     "name": "#%%\n"
    }
   }
  },
  {
   "cell_type": "markdown",
   "source": [
    "Face Contours"
   ],
   "metadata": {
    "collapsed": false
   }
  },
  {
   "cell_type": "code",
   "execution_count": 79,
   "outputs": [
    {
     "name": "stdout",
     "output_type": "stream",
     "text": [
      "FACEMESH_LEFT_IRIS\n",
      "\t4\n",
      "FACEMESH_RIGHT_IRIS\n",
      "\t4\n",
      "FACEMESH_LIPS\n",
      "\t40\n",
      "FACEMESH_LEFT_EYE\n",
      "\t16\n",
      "FACEMESH_LEFT_EYEBROW\n",
      "\t8\n",
      "FACEMESH_RIGHT_EYE\n",
      "\t16\n",
      "FACEMESH_RIGHT_EYEBROW\n",
      "\t8\n",
      "FACEMESH_FACE_OVAL\n",
      "\t36\n"
     ]
    }
   ],
   "source": [
    "FACEMESH_IRISES =['FACEMESH_LEFT_IRIS', 'FACEMESH_RIGHT_IRIS']\n",
    "\n",
    "FACEMESH_CONTOURS = ['FACEMESH_LIPS', 'FACEMESH_LEFT_EYE', 'FACEMESH_LEFT_EYEBROW',\n",
    "                     'FACEMESH_RIGHT_EYE', 'FACEMESH_RIGHT_EYEBROW', 'FACEMESH_FACE_OVAL']\n",
    "\n",
    "\n",
    "for face_contour_type in FACEMESH_IRISES + FACEMESH_CONTOURS:\n",
    "    face_contour_subcomponents = vars(mp_facemesh).get(face_contour_type)\n",
    "    print(face_contour_type+ '\\n\\t' + str(len(face_contour_subcomponents)))"
   ],
   "metadata": {
    "collapsed": false,
    "pycharm": {
     "name": "#%%\n"
    }
   }
  },
  {
   "cell_type": "markdown",
   "source": [
    "Face tesselation"
   ],
   "metadata": {
    "collapsed": false
   }
  },
  {
   "cell_type": "code",
   "execution_count": 80,
   "outputs": [
    {
     "name": "stdout",
     "output_type": "stream",
     "text": [
      "FACEMESH_TESSELATION\n",
      "\t2556\n"
     ]
    }
   ],
   "source": [
    "print('FACEMESH_TESSELATION\\n\\t' + str(len(mp_facemesh.FACEMESH_TESSELATION)))"
   ],
   "metadata": {
    "collapsed": false,
    "pycharm": {
     "name": "#%%\n"
    }
   }
  },
  {
   "cell_type": "markdown",
   "source": [
    "## Face keypoints detection"
   ],
   "metadata": {
    "collapsed": false
   }
  },
  {
   "cell_type": "code",
   "execution_count": 81,
   "outputs": [],
   "source": [
    "test_files_dir = os.path.join(os.getcwd(), \"./test_files\")\n",
    "IMAGE_FILES = [os.path.join(test_files_dir, f) for f in os.listdir(test_files_dir)]"
   ],
   "metadata": {
    "collapsed": false,
    "pycharm": {
     "name": "#%%\n"
    }
   }
  },
  {
   "cell_type": "code",
   "execution_count": 82,
   "outputs": [],
   "source": [
    "mp_drawing = mp.solutions.drawing_utils\n",
    "mp_drawing_styles = mp.solutions.drawing_styles\n",
    "drawing_spec = mp_drawing.DrawingSpec(thickness=1, circle_radius=1)"
   ],
   "metadata": {
    "collapsed": false,
    "pycharm": {
     "name": "#%%\n"
    }
   }
  },
  {
   "cell_type": "code",
   "execution_count": 83,
   "outputs": [
    {
     "name": "stdout",
     "output_type": "stream",
     "text": [
      "/media/data/Projects/hearai/pose_estimation/./test_files/Round-Faces-Hairstyles-V2-bb3d4ad87275459eb4c10088999a8221.png\n"
     ]
    }
   ],
   "source": [
    "file_name = IMAGE_FILES[2]\n",
    "with mp_facemesh.FaceMesh(\n",
    "    static_image_mode=True,\n",
    "    max_num_faces=1,\n",
    "    refine_landmarks=True,\n",
    "    min_detection_confidence=0.5) as face_mesh:\n",
    "    print(file_name)\n",
    "    image = cv2.imread(file_name)\n",
    "    # Convert the BGR image to RGB before processing.\n",
    "    results = face_mesh.process(cv2.cvtColor(image, cv2.COLOR_BGR2RGB))"
   ],
   "metadata": {
    "collapsed": false,
    "pycharm": {
     "name": "#%%\n"
    }
   }
  },
  {
   "cell_type": "markdown",
   "source": [
    "Landmarks structure from results"
   ],
   "metadata": {
    "collapsed": false
   }
  },
  {
   "cell_type": "code",
   "execution_count": 84,
   "outputs": [
    {
     "name": "stdout",
     "output_type": "stream",
     "text": [
      "Face landmarks type:\n",
      "\t<class 'mediapipe.framework.formats.landmark_pb2.NormalizedLandmarkList'>\n",
      "Landmarks type:\n",
      "\t<class 'google.protobuf.pyext._message.RepeatedCompositeContainer'>\n",
      "Landmarks length:\n",
      "\t478\n",
      "Some landmarks:\n",
      "[x: 0.5812457799911499\n",
      "y: 0.43126314878463745\n",
      "z: -0.059603266417980194\n",
      ", x: 0.5709167718887329\n",
      "y: 0.37638649344444275\n",
      "z: -0.09379370510578156\n",
      ", x: 0.5729054808616638\n",
      "y: 0.39649584889411926\n",
      "z: -0.054055072367191315\n",
      ", x: 0.5581287145614624\n",
      "y: 0.3296012878417969\n",
      "z: -0.06368519365787506\n",
      ", x: 0.5706579685211182\n",
      "y: 0.3600821793079376\n",
      "z: -0.09784295409917831\n",
      "]\n",
      "Single landmark type:\n",
      "\t<class 'mediapipe.framework.formats.landmark_pb2.NormalizedLandmark'>\n",
      "Landmark coordinates:\n",
      "\tx = 0.40653932094573975\n",
      "\ty = 0.37555164098739624\n",
      "\tz = 0.06415870785713196\n"
     ]
    }
   ],
   "source": [
    "if not results.multi_face_landmarks:\n",
    "      print(\"Face landmarks have not been found.\")\n",
    "      plt.imshow(image[:,:,::-1])\n",
    "      plt.show()\n",
    "else:\n",
    "    first_face_landmarks = results.multi_face_landmarks[0]\n",
    "    print(\"Face landmarks type:\\n\\t\" + str(type(first_face_landmarks)))\n",
    "\n",
    "    landmarks = first_face_landmarks.landmark\n",
    "    print(\"Landmarks type:\\n\\t\" + str(type(landmarks)))\n",
    "    print(\"Landmarks length:\\n\\t\" + str(len(landmarks)))\n",
    "    print(\"Some landmarks:\\n\" + str((landmarks[:5])))\n",
    "\n",
    "    landmark = first_face_landmarks.landmark[123]\n",
    "    print(\"Single landmark type:\\n\\t\" + str(type(landmark)))\n",
    "    print(\"Landmark coordinates:\" +\n",
    "          \"\\n\\tx = \" + str(landmark.x) +\n",
    "          \"\\n\\ty = \" + str(landmark.y) +\n",
    "          \"\\n\\tz = \" + str(landmark.z))\n",
    "\n",
    "\n",
    "\n"
   ],
   "metadata": {
    "collapsed": false,
    "pycharm": {
     "name": "#%%\n"
    }
   }
  }
 ],
 "metadata": {
  "kernelspec": {
   "display_name": "Python 3 (ipykernel)",
   "language": "python",
   "name": "python3"
  },
  "language_info": {
   "codemirror_mode": {
    "name": "ipython",
    "version": 3
   },
   "file_extension": ".py",
   "mimetype": "text/x-python",
   "name": "python",
   "nbconvert_exporter": "python",
   "pygments_lexer": "ipython3",
   "version": "3.9.9"
  }
 },
 "nbformat": 4,
 "nbformat_minor": 1
}